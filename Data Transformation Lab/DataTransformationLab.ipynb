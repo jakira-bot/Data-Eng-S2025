{
  "cells": [
    {
      "cell_type": "code",
      "execution_count": null,
      "metadata": {
        "colab": {
          "base_uri": "https://localhost:8080/"
        },
        "id": "60vlvbtQTneq",
        "outputId": "9a8730b2-4644-47df-cbfd-9b6faade256a"
      },
      "outputs": [
        {
          "name": "stdout",
          "output_type": "stream",
          "text": [
            "Index(['EVENT_NO_TRIP', 'EVENT_NO_STOP', 'OPD_DATE', 'VEHICLE_ID', 'METERS',\n",
            "       'ACT_TIME', 'GPS_LONGITUDE', 'GPS_LATITUDE', 'GPS_SATELLITES',\n",
            "       'GPS_HDOP'],\n",
            "      dtype='object')\n",
            "Index(['EVENT_NO_TRIP', 'OPD_DATE', 'VEHICLE_ID', 'METERS', 'ACT_TIME',\n",
            "       'GPS_LONGITUDE', 'GPS_LATITUDE'],\n",
            "      dtype='object')\n",
            "Index(['EVENT_NO_TRIP', 'OPD_DATE', 'VEHICLE_ID', 'METERS', 'ACT_TIME',\n",
            "       'GPS_LONGITUDE', 'GPS_LATITUDE'],\n",
            "      dtype='object')\n",
            "Index(['EVENT_NO_TRIP', 'VEHICLE_ID', 'METERS', 'GPS_LONGITUDE',\n",
            "       'GPS_LATITUDE', 'TimeStamp'],\n",
            "      dtype='object')\n",
            "0.0\n",
            "17.4\n",
            "7.227205815018314\n"
          ]
        }
      ],
      "source": [
        "# Part 1\n",
        "import pandas as pd\n",
        "df = pd.read_csv('Data.csv')\n",
        "len(df)\n",
        "#Part 2\n",
        "print(df.columns)\n",
        "df = df.drop('EVENT_NO_STOP', axis=1)\n",
        "df = df.drop(['GPS_SATELLITES', 'GPS_HDOP'], axis=1)\n",
        "print(df.columns)\n",
        "filter_df = pd.read_csv(\"data.csv\", usecols=['EVENT_NO_TRIP', 'OPD_DATE', 'VEHICLE_ID', 'METERS', 'ACT_TIME', 'GPS_LONGITUDE', 'GPS_LATITUDE'])\n",
        "print(filter_df.columns)\n",
        "# Part 3\n",
        "df['OPD_DATE'] = pd.to_datetime(df['OPD_DATE'], format='%d%b%Y:%H:%M:%S')\n",
        "df['ACT_TIME'] = pd.to_timedelta(df['ACT_TIME'], unit='s')\n",
        "df['TimeStamp'] = df['OPD_DATE'] + df['ACT_TIME']\n",
        "df = df.drop(['OPD_DATE', 'ACT_TIME'], axis=1)\n",
        "print(df.columns)\n",
        "# Part 4\n",
        "df['dMETERS'] = df['METERS'].diff()\n",
        "df['dTime'] = df['TimeStamp'].diff()\n",
        "df['dTime'] = df['dTime'].apply(lambda x: int(x.total_seconds()) if pd.notnull(x) else 'NaT')\n",
        "df['SPEED'] = df['dMETERS'] / df['dTime']\n",
        "df = df.drop(['dTime', 'dMETERS'], axis=1)\n",
        "print(df['SPEED'].min())\n",
        "print(df['SPEED'].max())\n",
        "print(df['SPEED'].mean())"
      ]
    },
    {
      "cell_type": "code",
      "execution_count": null,
      "metadata": {
        "colab": {
          "base_uri": "https://localhost:8080/"
        },
        "id": "DuMSBkOWUToz",
        "outputId": "89f8509f-17fd-4ee4-9541-a48cf26cc934"
      },
      "outputs": [
        {
          "name": "stderr",
          "output_type": "stream",
          "text": [
            "<ipython-input-55-5512f18369ee>:7: SettingWithCopyWarning: \n",
            "A value is trying to be set on a copy of a slice from a DataFrame.\n",
            "Try using .loc[row_indexer,col_indexer] = value instead\n",
            "\n",
            "See the caveats in the documentation: https://pandas.pydata.org/pandas-docs/stable/user_guide/indexing.html#returning-a-view-versus-a-copy\n",
            "  df['OPD_DATE'] = pd.to_datetime(df['OPD_DATE'], format='%d%b%Y:%H:%M:%S')\n",
            "<ipython-input-55-5512f18369ee>:8: SettingWithCopyWarning: \n",
            "A value is trying to be set on a copy of a slice from a DataFrame.\n",
            "Try using .loc[row_indexer,col_indexer] = value instead\n",
            "\n",
            "See the caveats in the documentation: https://pandas.pydata.org/pandas-docs/stable/user_guide/indexing.html#returning-a-view-versus-a-copy\n",
            "  df['ACT_TIME'] = pd.to_timedelta(df['ACT_TIME'], unit='s')\n",
            "<ipython-input-55-5512f18369ee>:9: SettingWithCopyWarning: \n",
            "A value is trying to be set on a copy of a slice from a DataFrame.\n",
            "Try using .loc[row_indexer,col_indexer] = value instead\n",
            "\n",
            "See the caveats in the documentation: https://pandas.pydata.org/pandas-docs/stable/user_guide/indexing.html#returning-a-view-versus-a-copy\n",
            "  df['TimeStamp'] = df['OPD_DATE'] + df['ACT_TIME']\n"
          ]
        },
        {
          "name": "stdout",
          "output_type": "stream",
          "text": [
            "17.4\n",
            "EVENT_NO_TRIP              259172515\n",
            "VEHICLE_ID                      4223\n",
            "METERS                          2187\n",
            "GPS_LONGITUDE            -122.660822\n",
            "GPS_LATITUDE               45.505452\n",
            "TimeStamp        2023-02-15 05:44:49\n",
            "SPEED                           17.4\n",
            "Name: 2356, dtype: object\n",
            "7.145377711312775\n"
          ]
        }
      ],
      "source": [
        "#Part 5\n",
        "df2 = pd.read_csv('Data2.csv', usecols=['EVENT_NO_TRIP', 'OPD_DATE', 'VEHICLE_ID', 'METERS', 'ACT_TIME', 'GPS_LONGITUDE', 'GPS_LATITUDE'])\n",
        "#print(df2.columns)\n",
        "#print(df2['VEHICLE_ID'].unique())\n",
        "#print(df2['OPD_DATE'].unique())\n",
        "df = df2[df2['VEHICLE_ID'] == 4223]\n",
        "df['OPD_DATE'] = pd.to_datetime(df['OPD_DATE'], format='%d%b%Y:%H:%M:%S')\n",
        "df['ACT_TIME'] = pd.to_timedelta(df['ACT_TIME'], unit='s')\n",
        "df['TimeStamp'] = df['OPD_DATE'] + df['ACT_TIME']\n",
        "df = df.drop(['OPD_DATE', 'ACT_TIME'], axis=1)\n",
        "df['dMETERS'] = df['METERS'].diff()\n",
        "df['dTime'] = df['TimeStamp'].diff()\n",
        "df['dTime'] = df['dTime'].apply(lambda x: int(x.total_seconds()) if pd.notnull(x) else 'NaT')\n",
        "df['SPEED'] = df['dMETERS'] / df['dTime']\n",
        "df = df.drop(['dTime', 'dMETERS'], axis=1)\n",
        "print(df['SPEED'].max())\n",
        "print(df.loc[df['SPEED'].idxmax()])\n",
        "print(df['SPEED'].mean())"
      ]
    },
    {
      "cell_type": "code",
      "execution_count": null,
      "metadata": {
        "id": "0SN5EdzrhO1T"
      },
      "outputs": [],
      "source": []
    }
  ],
  "metadata": {
    "colab": {
      "provenance": []
    },
    "kernelspec": {
      "display_name": "Python 3",
      "name": "python3"
    },
    "language_info": {
      "name": "python"
    }
  },
  "nbformat": 4,
  "nbformat_minor": 0
}
